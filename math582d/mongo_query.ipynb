{
 "metadata": {
  "name": "",
  "signature": "sha256:8570dfcd4ad2dc2f34c479992b89e653c16f239b5a5bb3da686e28e4da1b3a01"
 },
 "nbformat": 3,
 "nbformat_minor": 0,
 "worksheets": [
  {
   "cells": [
    {
     "cell_type": "code",
     "collapsed": false,
     "input": [
      "\n",
      "import pymongo\n",
      "\n",
      "# Connection to Mongo DB\n",
      "def connectMongo():\n",
      "    try:\n",
      "        conn=pymongo.MongoClient()\n",
      "        print \"Connected successfully!!!\"\n",
      "    except pymongo.errors.ConnectionFailure, e:\n",
      "       print \"Could not connect to MongoDB: %s\" % e \n",
      "    return conn\n",
      "\n",
      "conn=connectMongo()"
     ],
     "language": "python",
     "metadata": {},
     "outputs": []
    },
    {
     "cell_type": "raw",
     "metadata": {},
     "source": [
      "In [6]: conn.database_names()\n",
      "Out[6]: [u'admin', u'twitter', u'lines', u'local', u'mydb']\n"
     ]
    },
    {
     "cell_type": "code",
     "collapsed": false,
     "input": [
      "db=conn.twitter"
     ],
     "language": "python",
     "metadata": {},
     "outputs": []
    },
    {
     "cell_type": "raw",
     "metadata": {},
     "source": [
      "In [10]: db.collection_names()\n",
      "Out[10]: [u'lines', u'system.indexes', u'system.users', u'system.profile']"
     ]
    },
    {
     "cell_type": "code",
     "collapsed": false,
     "input": [
      "collection=db.lines"
     ],
     "language": "python",
     "metadata": {},
     "outputs": []
    },
    {
     "cell_type": "code",
     "collapsed": false,
     "input": [
      "name_list=['katy perry',\n",
      "'britney spears',\n",
      "'taylor swift',\n",
      "'kim kardashian',\n",
      "'justin bieber',\n",
      "'justin timberlake',\n",
      " 'chris brown',\n",
      " 'nicki minaj',\n",
      " 'lady gaga',\n",
      " 'miley cyrus',\n",
      " 'beyonce knowles',\n",
      " 'selena gomez',\n",
      " 'rihanna',\n",
      " 'ashton kutcher',\n",
      " 'ellen gegeneres',\n",
      " 'cristian oronaldo',\n",
      " 'oprah winfrey',\n",
      " 'jennifer lopez',\n",
      " 'shakira']\n",
      "\n",
      "r'@'+name_list[1].replace(' ', '')"
     ],
     "language": "python",
     "metadata": {},
     "outputs": [
      {
       "metadata": {},
       "output_type": "pyout",
       "prompt_number": 18,
       "text": [
        "'@britneyspears'"
       ]
      }
     ],
     "prompt_number": 18
    },
    {
     "cell_type": "code",
     "collapsed": false,
     "input": [
      "import re\n",
      "\n",
      "\n",
      "def searchMongo(name,collection, limit=10):\n",
      "    query={'$and':\n",
      "          [ {'$or':[\n",
      "                {'text':{'$regex':r'love.*'+name.replace(' ', ''), '$options':'is'}},\n",
      "                {'text':{'$regex':name.replace(' ', '')+ r'.*love', '$options':'is'}},\n",
      "                {'text':{'$regex':r'love.*'+name, '$options':'is'}},\n",
      "                {'text':{'$regex':name+ r'.*love', '$options':'is'}} ]},\n",
      "            \n",
      "            {'text':{'$not':re.compile(r'^.?@'+name.replace(' ', ''), re.IGNORECASE)}}]\n",
      "        }\n",
      "    \n",
      "    return list(collection.find(query).limit(limit))\n",
      "\n",
      "\n",
      "\n",
      "\n",
      "def searchMongo(name,collection, limit=10):\n",
      "    name=name.split(' ')\n",
      "    if(len(name)>1):\n",
      "        first=name[0]\n",
      "        last=name[1]\n",
      "    else:\n",
      "        first=name[0]\n",
      "        last=''\n",
      "    line1=r'love.*'+first+' ?'+last\n",
      "    line2=first+' ?'+last+r'.*love'\n",
      "    re_exp=re.compile(r'('+line1+r')|('+line2+r')', re.IGNORECASE)\n",
      "    \n",
      "    query={'$and':\n",
      "              [ {'text':re_exp},\n",
      "                {'text':{'$not':re.compile(r'^.?@'+first+last, re.IGNORECASE)}}]\n",
      "        }\n",
      "    \n",
      "    return list(collection.find(query).limit(limit))"
     ],
     "language": "python",
     "metadata": {},
     "outputs": [],
     "prompt_number": 17
    },
    {
     "cell_type": "code",
     "collapsed": false,
     "input": [],
     "language": "python",
     "metadata": {},
     "outputs": []
    }
   ],
   "metadata": {}
  }
 ]
}