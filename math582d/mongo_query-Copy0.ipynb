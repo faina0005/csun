{
 "metadata": {
  "name": "",
  "signature": "sha256:c72aa8706801b2189ceca6ae3053e375544ae0a7b4a744a5defce35c3e56e883"
 },
 "nbformat": 3,
 "nbformat_minor": 0,
 "worksheets": [
  {
   "cells": [
    {
     "cell_type": "code",
     "collapsed": false,
     "input": [
      "\n",
      "import pymongo\n",
      "\n",
      "# Connection to Mongo DB\n",
      "def connectMongo():\n",
      "    try:\n",
      "        conn=pymongo.MongoClient()\n",
      "        print \"Connected successfully!!!\"\n",
      "    except pymongo.errors.ConnectionFailure, e:\n",
      "       print \"Could not connect to MongoDB: %s\" % e \n",
      "    return conn\n",
      "\n",
      "conn=connectMongo()"
     ],
     "language": "python",
     "metadata": {},
     "outputs": []
    },
    {
     "cell_type": "raw",
     "metadata": {},
     "source": [
      "In [6]: conn.database_names()\n",
      "Out[6]: [u'admin', u'twitter', u'lines', u'local', u'mydb']\n"
     ]
    },
    {
     "cell_type": "code",
     "collapsed": false,
     "input": [
      "db=conn.twitter"
     ],
     "language": "python",
     "metadata": {},
     "outputs": []
    },
    {
     "cell_type": "raw",
     "metadata": {},
     "source": [
      "In [10]: db.collection_names()\n",
      "Out[10]: [u'lines', u'system.indexes', u'system.users', u'system.profile']"
     ]
    },
    {
     "cell_type": "code",
     "collapsed": false,
     "input": [
      "collection=db.lines"
     ],
     "language": "python",
     "metadata": {},
     "outputs": []
    },
    {
     "cell_type": "code",
     "collapsed": false,
     "input": [
      "name_list=['katy perry',\n",
      "'britney spears',\n",
      "'taylor swift',\n",
      "'kim kardashian',\n",
      "'justin bieber',\n",
      "'justin timberlake',\n",
      " 'chris brown',\n",
      " 'nicki minaj',\n",
      " 'lady gaga',\n",
      " 'miley cyrus',\n",
      " 'beyonce knowles',\n",
      " 'selena gomez',\n",
      " 'rihanna',\n",
      " 'ashton kutcher',\n",
      " 'ellen gegeneres',\n",
      " 'cristian oronaldo',\n",
      " 'oprah winfrey',\n",
      " 'jennifer lopez',\n",
      " 'shakira']\n",
      "\n",
      "r'@'+name_list[1].replace(' ', '')"
     ],
     "language": "python",
     "metadata": {},
     "outputs": [
      {
       "metadata": {},
       "output_type": "pyout",
       "prompt_number": 18,
       "text": [
        "'@britneyspears'"
       ]
      }
     ],
     "prompt_number": 18
    },
    {
     "cell_type": "code",
     "collapsed": false,
     "input": [
      "import re\n",
      "def searchMongo(name,collection, limit=10):\n",
      "    line=(r'(love.*'+name.replace(' ', '')+r' )|('+name.replace(' ', '')+ r'.*love)|'\n",
      "       r'(love.*'+name+r' )|('+name+ r'.*love)')\n",
      "    re_exp=re.compile(line)\n",
      "    query={'text':{'$regex':re_exp, '$options':'is',\n",
      "                   '$not':re.compile(r'\"@'+name.replace(' ', '').strip())}}\n",
      "    return list(collection.find(query).limit(limit))\n",
      "\n",
      "def searchMongo(name,collection, limit=10):\n",
      "   # line=(r'(love.*'+name.replace(' ', '')+r' )|('+name.replace(' ', '')+ r'.*love)|'\n",
      "    #   r'(love.*'+name+r' )|('+name+ r'.*love)')\n",
      "   # re_exp=re.compile(line)\n",
      "    query={'$and':\n",
      "          [ {'$or':[\n",
      "                {'text':{'$regex':r'love.*'+name.replace(' ', ''), '$options':'is'}},\n",
      "                {'text':{'$regex':name.replace(' ', '')+ r'.*love', '$options':'is'}},\n",
      "                {'text':{'$regex':r'love.*'+name, '$options':'is'}},\n",
      "                {'text':{'$regex':name+ r'.*love', '$options':'is'}} ]},\n",
      "            \n",
      "            {'$not':{'text':re.compile(r'^.?@'+name.replace(' ', ''), re.IGNORECASE)}}]\n",
      "        }\n",
      "    \n",
      "    return list(collection.find(query).limit(limit))\n",
      "   \n",
      "def searchMongo(name,collection, limit=10):\n",
      "    query={\n",
      "            'text':{'$regex':r'love.*'+name.replace(' ', ''), '$options': 'is'}\n",
      "            }\n",
      "    \n",
      "    return list(collection.find(query).limit(limit))\n",
      "\n",
      "def searchMongo(name,collection, limit=10):\n",
      "    query={'$and':\n",
      "          [ {'$or':[\n",
      "                {'text':{'$regex':r'love.*'+name.replace(' ', ''), '$options':'is'}},\n",
      "                {'text':{'$regex':name.replace(' ', '')+ r'.*love', '$options':'is'}},\n",
      "                {'text':{'$regex':r'love.*'+name, '$options':'is'}},\n",
      "                {'text':{'$regex':name+ r'.*love', '$options':'is'}} ]},\n",
      "            \n",
      "            {'text':{'$not':re.compile(r'^.?@'+name.replace(' ', ''), re.IGNORECASE)}}]\n",
      "        }\n",
      "    \n",
      "    return list(collection.find(query).limit(limit))\n",
      "\n",
      "\n",
      "\n",
      "\n",
      "def searchMongo(name,collection, limit=10):\n",
      "    first, last=name.split(' ')\n",
      "    query={'$and':\n",
      "          [ {'$or':[\n",
      "                {'text':{'$regex':r'love.*'+name.replace(' ', ''), '$options':'is'}},\n",
      "                {'text':{'$regex':name.replace(' ', '')+ r'.*love', '$options':'is'}},\n",
      "                {'text':{'$regex':r'love.*'+name, '$options':'is'}},\n",
      "                {'text':{'$regex':name+ r'.*love', '$options':'is'}} ]},\n",
      "            \n",
      "            {'text':{'$not':re.compile(r'^.?@'+name.replace(' ', ''), re.IGNORECASE)}}]\n",
      "        }\n",
      "    \n",
      "    return list(collection.find(query).limit(limit))"
     ],
     "language": "python",
     "metadata": {},
     "outputs": [],
     "prompt_number": 17
    },
    {
     "cell_type": "code",
     "collapsed": false,
     "input": [],
     "language": "python",
     "metadata": {},
     "outputs": []
    }
   ],
   "metadata": {}
  }
 ]
}