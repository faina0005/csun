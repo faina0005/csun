{
 "metadata": {
  "name": "",
  "signature": "sha256:627372ac36aa182c39a20df826e790812cbc9db097d8b784f394eab1f2a20bcf"
 },
 "nbformat": 3,
 "nbformat_minor": 0,
 "worksheets": [
  {
   "cells": [
    {
     "cell_type": "markdown",
     "metadata": {},
     "source": [
      "https://textblob.readthedocs.org/en/latest/"
     ]
    },
    {
     "cell_type": "code",
     "collapsed": false,
     "input": [
      "from textblob import TextBlob\n",
      "import nltk\n",
      "nltk.data.path.append('/Users/cem/Documents/_code/nltk')"
     ],
     "language": "python",
     "metadata": {},
     "outputs": [],
     "prompt_number": 9
    },
    {
     "cell_type": "code",
     "collapsed": false,
     "input": [
      "wiki = TextBlob(\"And now for something completely different. Python is a high-level, general-purpose programming language.\")\n",
      "print wiki.tags\n",
      "print\n",
      "print wiki.tokenize()\n",
      "print\n",
      "print wiki.parse()"
     ],
     "language": "python",
     "metadata": {},
     "outputs": [
      {
       "output_type": "stream",
       "stream": "stdout",
       "text": [
        "[(u'And', u'CC'), (u'now', u'RB'), (u'for', u'IN'), (u'something', u'NN'), (u'completely', u'RB'), (u'different', u'JJ'), (u'Python', u'NNP'), (u'is', u'VBZ'), (u'a', u'DT'), (u'high-level', u'JJ'), (u'general-purpose', u'JJ'), (u'programming', u'NN'), (u'language', u'NN')]\n",
        "\n",
        "['And', 'now', 'for', 'something', 'completely', 'different', '.', 'Python', 'is', 'a', 'high-level', ',', 'general-purpose', 'programming', 'language', '.']\n",
        "\n",
        "And/CC/O/O now/RB/B-ADVP/O for/IN/B-PP/B-PNP something/NN/B-NP/I-PNP completely/RB/B-ADJP/O different/JJ/I-ADJP/O ././O/O\n",
        "Python/NNP/B-NP/O is/VBZ/B-VP/O a/DT/O/O high-level/JJ/B-ADJP/O ,/,/O/O general-purpose/JJ/B-NP/O programming/NN/I-NP/O language/NN/I-NP/O ././O/O\n",
        "\n"
       ]
      },
      {
       "metadata": {},
       "output_type": "pyout",
       "prompt_number": 30,
       "text": [
        "WordList(['python'])"
       ]
      }
     ],
     "prompt_number": 30
    },
    {
     "cell_type": "code",
     "collapsed": false,
     "input": [
      "print wiki.sentences"
     ],
     "language": "python",
     "metadata": {},
     "outputs": [
      {
       "output_type": "stream",
       "stream": "stdout",
       "text": [
        "[Sentence(\"And now for something completely different.\"), Sentence(\"Python is a high-level, general-purpose programming language.\")]\n"
       ]
      }
     ],
     "prompt_number": 49
    },
    {
     "cell_type": "raw",
     "metadata": {},
     "source": [
      "It can be tedious to repeatedly pass taggers, NP extractors, sentiment analyzers, classifiers, and tokenizers to multiple TextBlobs. To keep your code DRY, you can use the Blobber class to create TextBlobs that share the same models.\n",
      "\n",
      "First, instantiate a Blobber with the tagger, NP extractor, sentiment analyzer, classifier, and/or tokenizer of your choice."
     ]
    },
    {
     "cell_type": "code",
     "collapsed": false,
     "input": [
      "TextBlob(\"Now is better than never.\").ngrams(n=3)"
     ],
     "language": "python",
     "metadata": {},
     "outputs": [
      {
       "metadata": {},
       "output_type": "pyout",
       "prompt_number": 25,
       "text": [
        "[WordList(['Now', 'is', 'better']),\n",
        " WordList(['is', 'better', 'than']),\n",
        " WordList(['better', 'than', 'never'])]"
       ]
      }
     ],
     "prompt_number": 25
    },
    {
     "cell_type": "code",
     "collapsed": false,
     "input": [
      "from textblob import Blobber\n",
      "from textblob.taggers import NLTKTagger\n",
      "\n",
      "tb = Blobber(pos_tagger=NLTKTagger())\n",
      "blob1 = tb(\"This is a blob.\")\n",
      "blob2 = tb(\"This is another blob.\")\n",
      "blob1.pos_tagger is blob2.pos_tagger"
     ],
     "language": "python",
     "metadata": {},
     "outputs": [
      {
       "metadata": {},
       "output_type": "pyout",
       "prompt_number": 36,
       "text": [
        "True"
       ]
      }
     ],
     "prompt_number": 36
    },
    {
     "cell_type": "code",
     "collapsed": false,
     "input": [
      "news = TextBlob(\"Apple introduces new iPads, iMacs. \\\n",
      "                   Joan Rivers cause of death: 'Predictable complication' during procedure. \\\n",
      "                     Obama open to appointing Ebola 'czar,' opposes travel ban.\")\n",
      "[sentence.sentiment for sentence in news.sentences]"
     ],
     "language": "python",
     "metadata": {},
     "outputs": [
      {
       "metadata": {},
       "output_type": "pyout",
       "prompt_number": 43,
       "text": [
        "[Sentiment(polarity=0.13636363636363635, subjectivity=0.45454545454545453),\n",
        " Sentiment(polarity=-0.2, subjectivity=0.5),\n",
        " Sentiment(polarity=0.0, subjectivity=0.5)]"
       ]
      }
     ],
     "prompt_number": 43
    },
    {
     "cell_type": "code",
     "collapsed": false,
     "input": [
      "sentence = TextBlob('Use 4 spaces per indentation level.')\n",
      "print sentence.words\n",
      "print sentence.words[2].singularize()\n",
      "print sentence.words[-1].pluralize()"
     ],
     "language": "python",
     "metadata": {},
     "outputs": [
      {
       "output_type": "stream",
       "stream": "stdout",
       "text": [
        "['Use', '4', 'spaces', 'per', 'indentation', 'level']\n",
        "space\n",
        "levels\n"
       ]
      }
     ],
     "prompt_number": 10
    },
    {
     "cell_type": "raw",
     "metadata": {},
     "source": [
      "TextBlobs Are Like Python Strings- you can use Python\u2019s substring syntax."
     ]
    },
    {
     "cell_type": "code",
     "collapsed": false,
     "input": [
      "print news[0:19]\n",
      "print news[0:19].upper()"
     ],
     "language": "python",
     "metadata": {},
     "outputs": [
      {
       "output_type": "stream",
       "stream": "stdout",
       "text": [
        "Apple introduces ne\n",
        "APPLE INTRODUCES NE\n"
       ]
      }
     ],
     "prompt_number": 45
    },
    {
     "cell_type": "code",
     "collapsed": false,
     "input": [
      "for s in news.sentences:\n",
      "...     print(s)\n",
      "...     print(\"---- Starts at index {}, Ends at index {}\".format(s.start, s.end))"
     ],
     "language": "python",
     "metadata": {},
     "outputs": [
      {
       "output_type": "stream",
       "stream": "stdout",
       "text": [
        "Apple introduces new iPads, iMacs.\n",
        "---- Starts at index 0, Ends at index 34\n",
        "Joan Rivers cause of death: 'Predictable complication' during procedure.\n",
        "---- Starts at index 54, Ends at index 126\n",
        "Obama open to appointing Ebola 'czar,' opposes travel ban.\n",
        "---- Starts at index 146, Ends at index 204\n"
       ]
      }
     ],
     "prompt_number": 47
    },
    {
     "cell_type": "code",
     "collapsed": false,
     "input": [
      "apple_blob = TextBlob('apples')\n",
      "banana_blob = TextBlob('bananas')\n",
      "print apple_blob < banana_blob\n",
      "apple_blob == 'apples'"
     ],
     "language": "python",
     "metadata": {},
     "outputs": [
      {
       "output_type": "stream",
       "stream": "stdout",
       "text": [
        "True\n"
       ]
      },
      {
       "metadata": {},
       "output_type": "pyout",
       "prompt_number": 23,
       "text": [
        "True"
       ]
      }
     ],
     "prompt_number": 23
    },
    {
     "cell_type": "code",
     "collapsed": false,
     "input": [
      "print apple_blob + ' and ' + banana_blob\n",
      "\"{0} and {1}\".format(apple_blob, banana_blob)"
     ],
     "language": "python",
     "metadata": {},
     "outputs": [
      {
       "output_type": "stream",
       "stream": "stdout",
       "text": [
        "apples and bananas\n"
       ]
      },
      {
       "metadata": {},
       "output_type": "pyout",
       "prompt_number": 24,
       "text": [
        "'apples and bananas'"
       ]
      }
     ],
     "prompt_number": 24
    },
    {
     "cell_type": "raw",
     "metadata": {},
     "source": [
      "A WordList is just a Python list with additional methods."
     ]
    },
    {
     "cell_type": "code",
     "collapsed": false,
     "input": [
      "animals = TextBlob(\"cat dog octopus\")\n",
      "print animals.words\n",
      "animals.words.pluralize()"
     ],
     "language": "python",
     "metadata": {},
     "outputs": [
      {
       "output_type": "stream",
       "stream": "stdout",
       "text": [
        "['cat', 'dog', 'octopus']\n"
       ]
      },
      {
       "metadata": {},
       "output_type": "pyout",
       "prompt_number": 10,
       "text": [
        "WordList(['cats', 'dogs', 'octopodes'])"
       ]
      }
     ],
     "prompt_number": 10
    },
    {
     "cell_type": "code",
     "collapsed": false,
     "input": [
      "b = TextBlob(\"I havv goood speling!\")\n",
      "print(b.correct())"
     ],
     "language": "python",
     "metadata": {},
     "outputs": [
      {
       "output_type": "stream",
       "stream": "stdout",
       "text": [
        "I have good spelling!\n"
       ]
      }
     ],
     "prompt_number": 15
    },
    {
     "cell_type": "code",
     "collapsed": false,
     "input": [
      "w = Word('falibility')\n",
      "w.spellcheck()"
     ],
     "language": "python",
     "metadata": {},
     "outputs": [
      {
       "metadata": {},
       "output_type": "pyout",
       "prompt_number": 16,
       "text": [
        "[(u'fallibility', 1.0)]"
       ]
      }
     ],
     "prompt_number": 16
    },
    {
     "cell_type": "code",
     "collapsed": false,
     "input": [
      "from textblob import Word\n",
      "w = Word(\"octopi\")\n",
      "print w.lemmatize()\n",
      "w = Word(\"went\")\n",
      "w.lemmatize(\"v\")"
     ],
     "language": "python",
     "metadata": {},
     "outputs": [
      {
       "output_type": "stream",
       "stream": "stdout",
       "text": [
        "octopus\n"
       ]
      },
      {
       "metadata": {},
       "output_type": "pyout",
       "prompt_number": 11,
       "text": [
        "u'go'"
       ]
      }
     ],
     "prompt_number": 11
    },
    {
     "cell_type": "code",
     "collapsed": false,
     "input": [
      "from textblob.wordnet import VERB\n",
      "word = Word(\"octopus\")\n",
      "print word.synsets\n",
      "print Word(\"hack\").get_synsets(pos=VERB)\n",
      "Word(\"octopus\").definitions"
     ],
     "language": "python",
     "metadata": {},
     "outputs": [
      {
       "output_type": "stream",
       "stream": "stdout",
       "text": [
        "[Synset('octopus.n.01'), Synset('octopus.n.02')]\n",
        "[Synset('chop.v.05'), Synset('hack.v.02'), Synset('hack.v.03'), Synset('hack.v.04'), Synset('hack.v.05'), Synset('hack.v.06'), Synset('hack.v.07'), Synset('hack.v.08')]\n"
       ]
      },
      {
       "metadata": {},
       "output_type": "pyout",
       "prompt_number": 12,
       "text": [
        "[u'tentacles of octopus prepared as food',\n",
        " u'bottom-living cephalopod having a soft oval body with eight long tentacles']"
       ]
      }
     ],
     "prompt_number": 12
    },
    {
     "cell_type": "code",
     "collapsed": false,
     "input": [
      "from textblob.wordnet import Synset\n",
      "octopus = Synset('octopus.n.02')\n",
      "shrimp = Synset('shrimp.n.03')\n",
      "octopus.path_similarity(shrimp)"
     ],
     "language": "python",
     "metadata": {},
     "outputs": [
      {
       "metadata": {},
       "output_type": "pyout",
       "prompt_number": 13,
       "text": [
        "0.1111111111111111"
       ]
      }
     ],
     "prompt_number": 13
    },
    {
     "cell_type": "raw",
     "metadata": {},
     "source": [
      "TextBlobs can be translated between languages."
     ]
    },
    {
     "cell_type": "code",
     "collapsed": false,
     "input": [
      "en_blob = TextBlob(u\"Simple is better than complex.\")\n",
      "en_blob.translate(to=\"es\")"
     ],
     "language": "python",
     "metadata": {},
     "outputs": [
      {
       "metadata": {},
       "output_type": "pyout",
       "prompt_number": 17,
       "text": [
        "TextBlob(\"Simple es mejor que complejo .\")"
       ]
      }
     ],
     "prompt_number": 17
    },
    {
     "cell_type": "code",
     "collapsed": false,
     "input": [
      "chinese_blob = TextBlob(u\"\u7f8e\u4e3d\u4f18\u4e8e\u4e11\u964b\")\n",
      "chinese_blob.translate(from_lang=\"zh-CN\", to='en')\n"
     ],
     "language": "python",
     "metadata": {},
     "outputs": [
      {
       "metadata": {},
       "output_type": "pyout",
       "prompt_number": 18,
       "text": [
        "TextBlob(\"Beautiful is better than ugly\")"
       ]
      }
     ],
     "prompt_number": 18
    },
    {
     "cell_type": "raw",
     "metadata": {},
     "source": [
      "Not bad!"
     ]
    },
    {
     "cell_type": "code",
     "collapsed": false,
     "input": [
      "en_blob.translate(to=\"zh-CN\").translate(from_lang=\"zh-CN\", to='en')"
     ],
     "language": "python",
     "metadata": {},
     "outputs": [
      {
       "metadata": {},
       "output_type": "pyout",
       "prompt_number": 48,
       "text": [
        "TextBlob(\"Simple is better than complex.\")"
       ]
      }
     ],
     "prompt_number": 48
    },
    {
     "cell_type": "code",
     "collapsed": false,
     "input": [
      "TextBlob(u\"\u0628\u0633\u064a\u0637 \u0647\u0648 \u0623\u0641\u0636\u0644 \u0645\u0646 \u0645\u062c\u0645\u0639\").detect_language()"
     ],
     "language": "python",
     "metadata": {},
     "outputs": [
      {
       "metadata": {},
       "output_type": "pyout",
       "prompt_number": 5,
       "text": [
        "u'ar'"
       ]
      }
     ],
     "prompt_number": 5
    },
    {
     "cell_type": "raw",
     "metadata": {},
     "source": [
      "Afrikaans\taf\n",
      "Albanian\tsq\n",
      "Arabic\tar\n",
      "Azerbaijani\taz\n",
      "Basque\teu\n",
      "Bengali\tbn\n",
      "Belarusian\tbe\n",
      "Bulgarian\tbg\n",
      "Catalan\tca\n",
      "Chinese Simplified\tzh-CN\n",
      "Chinese Traditional\tzh-TW\n",
      "Croatian\thr\n",
      "Czech\tcs\n",
      "Danish\tda\n",
      "Dutch\tnl\n",
      "English\ten\n",
      "Esperanto\teo\n",
      "Estonian\tet\n",
      "Filipino\ttl\n",
      "Finnish\tfi\n",
      "French\tfr\n",
      "Galician\tgl\n",
      "Georgian\tka\n",
      "German\tde\n",
      "Greek\tel\n",
      "Gujarati\tgu\n",
      "Haitian Creole\tht\n",
      "Hebrew\tiw\n",
      "Hindi\thi\n",
      "Hungarian\thu\n",
      "Icelandic\tis\n",
      "Indonesian\tid\n",
      "Irish\tga\n",
      "Italian\tit\n",
      "Japanese\tja\n",
      "Kannada\tkn\n",
      "Korean\tko\n",
      "Latin\tla\n",
      "Latvian\tlv\n",
      "Lithuanian\tlt\n",
      "Macedonian\tmk\n",
      "Malay\tms\n",
      "Maltese\tmt\n",
      "Norwegian\tno\n",
      "Persian\tfa\n",
      "Polish\tpl\n",
      "Portuguese\tpt\n",
      "Romanian\tro\n",
      "Russian\tru\n",
      "Serbian\tsr\n",
      "Slovak\tsk\n",
      "Slovenian\tsl\n",
      "Spanish\tes\n",
      "Swahili\tsw\n",
      "Swedish\tsv\n",
      "Tamil\tta\n",
      "Telugu\tte\n",
      "Thai\tth\n",
      "Turkish\ttr\n",
      "Ukrainian\tuk\n",
      "Urdu\tur\n",
      "Vietnamese\tvi\n",
      "Welsh\tcy\n",
      "Yiddish\tyi"
     ]
    },
    {
     "cell_type": "code",
     "collapsed": false,
     "input": [
      "s = \"\"\"Then I learned some things no one should ever learn, and yet I did not learn enough. My life was sliced like a cake with a hot sharp knife but not as delicious as cake at all because I stopped singing and laughing, I stopped eating and I became Afraid. Capital A Afraid, shoulders hunched waiting for the next date afraid, lying all of the time afraid, smiling all of the time afraid, which is the same as lying, really. I was a little naked squirming thing cowering in the space beneath an upturned rock, frozen by the sudden light, wishing I could hide. But inside, I grew a heart like a ladder, endless, and I wanted, wanted, wanted, every second of the day, something more, something right, and so I was no longer really truly here, one foot on my ladder, recurring nightmares at night, endless dreams when I was awake.\"\"\"\n",
      "t = TextBlob(s)"
     ],
     "language": "python",
     "metadata": {},
     "outputs": [],
     "prompt_number": 52
    },
    {
     "cell_type": "code",
     "collapsed": false,
     "input": [
      "langs = ['en','eu','es','ca','en']\n",
      "\n",
      "u = TextBlob(s)\n",
      "\n",
      "for i in range(len(langs)-1):\n",
      "    t = t.translate(from_lang=langs[i],to=langs[i+1])\n",
      "\n",
      "for i in range(len(t.sentences)):\n",
      "    print u.sentences[i].raw\n",
      "    print t.sentences[i].raw\n",
      "    print "
     ],
     "language": "python",
     "metadata": {},
     "outputs": [
      {
       "output_type": "stream",
       "stream": "stdout",
       "text": [
        "Then one has to learn some things that I learned , and I have not learned enough .\n",
        "Then I learned some things no one should ever learn, and yet I did not learn enough.\n",
        "\n",
        "My life as a cake was cut with a sharp knife in hot, but not as delicious cake and sing because I stopped laughing, I stopped eating and I was afraid .\n",
        "My life was sliced like a cake with a hot sharp knife but not as delicious as cake at all because I stopped singing and laughing, I stopped eating and I became Afraid.\n",
        "\n",
        "Capital fearful , shrunken shoulders in fear waiting for the next date , all the time lying in fear, afraid to try , which is the same as lying down smiling at all really.\n",
        "Capital A Afraid, shoulders hunched waiting for the next date afraid, lying all of the time afraid, smiling all of the time afraid, which is the same as lying, really.\n",
        "\n",
        "Space is something twisted rock up naked , shrunken into a sudden light froze I was little , looking forward to hide.\n",
        "I was a little naked squirming thing cowering in the space beneath an upturned rock, frozen by the sudden light, wishing I could hide.\n",
        "\n",
        "But inside , a ladder, a boundless heart as I grew up , and I wanted to , like , every second of the day , something , something good , so my scale of one leg , not repeat here , I was actually at night nightmare , I dreamed I was awake .\n",
        "But inside, I grew a heart like a ladder, endless, and I wanted, wanted, wanted, every second of the day, something more, something right, and so I was no longer really truly here, one foot on my ladder, recurring nightmares at night, endless dreams when I was awake.\n",
        "\n"
       ]
      }
     ],
     "prompt_number": 53
    },
    {
     "cell_type": "code",
     "collapsed": false,
     "input": [],
     "language": "python",
     "metadata": {},
     "outputs": []
    }
   ],
   "metadata": {}
  }
 ]
}